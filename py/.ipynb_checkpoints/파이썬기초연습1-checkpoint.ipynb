{
 "cells": [
  {
   "cell_type": "code",
   "execution_count": 5,
   "id": "b2d9a346",
   "metadata": {},
   "outputs": [],
   "source": [
    "# 변수(동적타이핑)\n",
    "num=1"
   ]
  },
  {
   "cell_type": "code",
   "execution_count": 9,
   "id": "e25c214c",
   "metadata": {},
   "outputs": [],
   "source": [
    "# 파이썬 데이터 타입, 문자, 숫자(정수, 실수), 논리형"
   ]
  },
  {
   "cell_type": "code",
   "execution_count": 11,
   "id": "a3c73090",
   "metadata": {},
   "outputs": [
    {
     "data": {
      "text/plain": [
       "int"
      ]
     },
     "execution_count": 11,
     "metadata": {},
     "output_type": "execute_result"
    }
   ],
   "source": [
    "type(num)"
   ]
  },
  {
   "cell_type": "code",
   "execution_count": 7,
   "id": "7cab2118",
   "metadata": {},
   "outputs": [],
   "source": [
    "st1=\"hi\""
   ]
  },
  {
   "cell_type": "code",
   "execution_count": 8,
   "id": "5da61aad",
   "metadata": {},
   "outputs": [
    {
     "data": {
      "text/plain": [
       "str"
      ]
     },
     "execution_count": 8,
     "metadata": {},
     "output_type": "execute_result"
    }
   ],
   "source": [
    "type(st1)"
   ]
  },
  {
   "cell_type": "code",
   "execution_count": 12,
   "id": "2d9fdf21",
   "metadata": {},
   "outputs": [],
   "source": [
    "boolVal=True"
   ]
  },
  {
   "cell_type": "code",
   "execution_count": 13,
   "id": "73b50c81",
   "metadata": {},
   "outputs": [
    {
     "data": {
      "text/plain": [
       "bool"
      ]
     },
     "execution_count": 13,
     "metadata": {},
     "output_type": "execute_result"
    }
   ],
   "source": [
    "type(boolVal)"
   ]
  },
  {
   "cell_type": "code",
   "execution_count": 14,
   "id": "bb295527",
   "metadata": {},
   "outputs": [
    {
     "name": "stdout",
     "output_type": "stream",
     "text": [
      "hi\n"
     ]
    }
   ],
   "source": [
    "if True:\n",
    "    print(\"hi\")"
   ]
  },
  {
   "cell_type": "code",
   "execution_count": 15,
   "id": "768839af",
   "metadata": {},
   "outputs": [
    {
     "name": "stdout",
     "output_type": "stream",
     "text": [
      "hi\n"
     ]
    }
   ],
   "source": [
    "if True:\n",
    "    print(\"hi\")\n",
    "else:\n",
    "    print(\"not hi\")"
   ]
  },
  {
   "cell_type": "code",
   "execution_count": 16,
   "id": "83f233b4",
   "metadata": {},
   "outputs": [
    {
     "name": "stdout",
     "output_type": "stream",
     "text": [
      "not hi\n"
     ]
    }
   ],
   "source": [
    "if False:\n",
    "    print(\"hi\")\n",
    "else:\n",
    "    print(\"not hi\")"
   ]
  },
  {
   "cell_type": "code",
   "execution_count": 17,
   "id": "1e15b3a7",
   "metadata": {},
   "outputs": [
    {
     "name": "stdout",
     "output_type": "stream",
     "text": [
      "A\n"
     ]
    }
   ],
   "source": [
    "if True:\n",
    "    print(\"A\")\n",
    "elif(True):\n",
    "    print(\"B\")\n",
    "else:\n",
    "    print(\"C\")"
   ]
  },
  {
   "cell_type": "code",
   "execution_count": 18,
   "id": "de5c1da3",
   "metadata": {},
   "outputs": [
    {
     "name": "stdout",
     "output_type": "stream",
     "text": [
      "B\n"
     ]
    }
   ],
   "source": [
    "if False:\n",
    "    print(\"A\")\n",
    "elif True:\n",
    "    print(\"B\")\n",
    "else:\n",
    "    print(\"C\")"
   ]
  },
  {
   "cell_type": "code",
   "execution_count": 19,
   "id": "21e3ee56",
   "metadata": {},
   "outputs": [
    {
     "name": "stdout",
     "output_type": "stream",
     "text": [
      "C\n"
     ]
    }
   ],
   "source": [
    "if False:\n",
    "    print(\"A\")\n",
    "elif False:\n",
    "    print(\"B\")\n",
    "else:\n",
    "    print(\"C\")"
   ]
  },
  {
   "cell_type": "code",
   "execution_count": 20,
   "id": "56c3fa21",
   "metadata": {},
   "outputs": [
    {
     "data": {
      "text/plain": [
       "True"
      ]
     },
     "execution_count": 20,
     "metadata": {},
     "output_type": "execute_result"
    }
   ],
   "source": [
    "'A' in ['A','B','C']"
   ]
  },
  {
   "cell_type": "code",
   "execution_count": 22,
   "id": "df88ac88",
   "metadata": {},
   "outputs": [
    {
     "data": {
      "text/plain": [
       "[0, 1, 2, 3, 4]"
      ]
     },
     "execution_count": 22,
     "metadata": {},
     "output_type": "execute_result"
    }
   ],
   "source": [
    "list(range(5)) #0,1,2,3,4"
   ]
  },
  {
   "cell_type": "code",
   "execution_count": 21,
   "id": "c9b34ea2",
   "metadata": {},
   "outputs": [
    {
     "name": "stdout",
     "output_type": "stream",
     "text": [
      "A\n",
      "B\n",
      "C\n"
     ]
    }
   ],
   "source": [
    "for i in ['A','B','C']:\n",
    "    print(i)"
   ]
  },
  {
   "cell_type": "code",
   "execution_count": null,
   "id": "89523696",
   "metadata": {},
   "outputs": [],
   "source": []
  }
 ],
 "metadata": {
  "kernelspec": {
   "display_name": "Python 3 (ipykernel)",
   "language": "python",
   "name": "python3"
  },
  "language_info": {
   "codemirror_mode": {
    "name": "ipython",
    "version": 3
   },
   "file_extension": ".py",
   "mimetype": "text/x-python",
   "name": "python",
   "nbconvert_exporter": "python",
   "pygments_lexer": "ipython3",
   "version": "3.11.4"
  }
 },
 "nbformat": 4,
 "nbformat_minor": 5
}
