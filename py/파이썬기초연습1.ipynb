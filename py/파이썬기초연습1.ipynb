{
 "cells": [
  {
   "cell_type": "code",
   "execution_count": 5,
   "id": "e8386002",
   "metadata": {},
   "outputs": [],
   "source": [
    "# 변수(동적타이핑)\n",
    "num=1"
   ]
  },
  {
   "cell_type": "code",
   "execution_count": 9,
   "id": "6c6fab7c",
   "metadata": {},
   "outputs": [],
   "source": [
    "# 파이썬 데이터 타입, 문자, 숫자(정수, 실수), 논리형"
   ]
  },
  {
   "cell_type": "code",
   "execution_count": 11,
   "id": "38c7287e",
   "metadata": {},
   "outputs": [
    {
     "data": {
      "text/plain": [
       "int"
      ]
     },
     "execution_count": 11,
     "metadata": {},
     "output_type": "execute_result"
    }
   ],
   "source": [
    "type(num)"
   ]
  },
  {
   "cell_type": "code",
   "execution_count": 7,
   "id": "88787a55",
   "metadata": {},
   "outputs": [],
   "source": [
    "st1=\"hi\""
   ]
  },
  {
   "cell_type": "code",
   "execution_count": 8,
   "id": "d7e43f3b",
   "metadata": {},
   "outputs": [
    {
     "data": {
      "text/plain": [
       "str"
      ]
     },
     "execution_count": 8,
     "metadata": {},
     "output_type": "execute_result"
    }
   ],
   "source": [
    "type(st1)"
   ]
  },
  {
   "cell_type": "code",
   "execution_count": 12,
   "id": "66aaf0ef",
   "metadata": {},
   "outputs": [],
   "source": [
    "boolVal=True"
   ]
  },
  {
   "cell_type": "code",
   "execution_count": 13,
   "id": "21298b5f",
   "metadata": {},
   "outputs": [
    {
     "data": {
      "text/plain": [
       "bool"
      ]
     },
     "execution_count": 13,
     "metadata": {},
     "output_type": "execute_result"
    }
   ],
   "source": [
    "type(boolVal)"
   ]
  },
  {
   "cell_type": "code",
   "execution_count": 14,
   "id": "246ba2b3",
   "metadata": {},
   "outputs": [
    {
     "name": "stdout",
     "output_type": "stream",
     "text": [
      "hi\n"
     ]
    }
   ],
   "source": [
    "if True:\n",
    "    print(\"hi\")"
   ]
  },
  {
   "cell_type": "code",
   "execution_count": 15,
   "id": "377193bb",
   "metadata": {},
   "outputs": [
    {
     "name": "stdout",
     "output_type": "stream",
     "text": [
      "hi\n"
     ]
    }
   ],
   "source": [
    "if True:\n",
    "    print(\"hi\")\n",
    "else:\n",
    "    print(\"not hi\")"
   ]
  },
  {
   "cell_type": "code",
   "execution_count": 16,
   "id": "0822a70a",
   "metadata": {},
   "outputs": [
    {
     "name": "stdout",
     "output_type": "stream",
     "text": [
      "not hi\n"
     ]
    }
   ],
   "source": [
    "if False:\n",
    "    print(\"hi\")\n",
    "else:\n",
    "    print(\"not hi\")"
   ]
  },
  {
   "cell_type": "code",
   "execution_count": 17,
   "id": "749f1d13",
   "metadata": {},
   "outputs": [
    {
     "name": "stdout",
     "output_type": "stream",
     "text": [
      "A\n"
     ]
    }
   ],
   "source": [
    "if True:\n",
    "    print(\"A\")\n",
    "elif(True):\n",
    "    print(\"B\")\n",
    "else:\n",
    "    print(\"C\")"
   ]
  },
  {
   "cell_type": "code",
   "execution_count": 18,
   "id": "41f639f6",
   "metadata": {},
   "outputs": [
    {
     "name": "stdout",
     "output_type": "stream",
     "text": [
      "B\n"
     ]
    }
   ],
   "source": [
    "if False:\n",
    "    print(\"A\")\n",
    "elif True:\n",
    "    print(\"B\")\n",
    "else:\n",
    "    print(\"C\")"
   ]
  },
  {
   "cell_type": "code",
   "execution_count": 19,
   "id": "2b6d24ee",
   "metadata": {},
   "outputs": [
    {
     "name": "stdout",
     "output_type": "stream",
     "text": [
      "C\n"
     ]
    }
   ],
   "source": [
    "if False:\n",
    "    print(\"A\")\n",
    "elif False:\n",
    "    print(\"B\")\n",
    "else:\n",
    "    print(\"C\")"
   ]
  },
  {
   "cell_type": "code",
   "execution_count": 20,
   "id": "3e7a2aca",
   "metadata": {},
   "outputs": [
    {
     "data": {
      "text/plain": [
       "True"
      ]
     },
     "execution_count": 20,
     "metadata": {},
     "output_type": "execute_result"
    }
   ],
   "source": [
    "'A' in ['A','B','C']"
   ]
  },
  {
   "cell_type": "code",
   "execution_count": 22,
   "id": "0012f98a",
   "metadata": {},
   "outputs": [
    {
     "data": {
      "text/plain": [
       "[0, 1, 2, 3, 4]"
      ]
     },
     "execution_count": 22,
     "metadata": {},
     "output_type": "execute_result"
    }
   ],
   "source": [
    "list(range(5)) #0,1,2,3,4"
   ]
  },
  {
   "cell_type": "code",
   "execution_count": 23,
   "id": "7aec58d4",
   "metadata": {},
   "outputs": [
    {
     "name": "stdout",
     "output_type": "stream",
     "text": [
      "0\n",
      "1\n",
      "2\n",
      "3\n",
      "4\n"
     ]
    }
   ],
   "source": [
    "for i in range(5):\n",
    "    print(i)"
   ]
  },
  {
   "cell_type": "code",
   "execution_count": 21,
   "id": "b086bb5c",
   "metadata": {},
   "outputs": [
    {
     "name": "stdout",
     "output_type": "stream",
     "text": [
      "A\n",
      "B\n",
      "C\n"
     ]
    }
   ],
   "source": [
    "for i in ['A','B','C']:\n",
    "    print(i)"
   ]
  },
  {
   "cell_type": "code",
   "execution_count": 24,
   "id": "4b8b1688",
   "metadata": {},
   "outputs": [
    {
     "data": {
      "text/plain": [
       "False"
      ]
     },
     "execution_count": 24,
     "metadata": {},
     "output_type": "execute_result"
    }
   ],
   "source": [
    "'A' not in ['A','B','C']"
   ]
  },
  {
   "cell_type": "code",
   "execution_count": null,
   "id": "fa6f3762",
   "metadata": {},
   "outputs": [],
   "source": []
  }
 ],
 "metadata": {
  "kernelspec": {
   "display_name": "Python 3 (ipykernel)",
   "language": "python",
   "name": "python3"
  },
  "language_info": {
   "codemirror_mode": {
    "name": "ipython",
    "version": 3
   },
   "file_extension": ".py",
   "mimetype": "text/x-python",
   "name": "python",
   "nbconvert_exporter": "python",
   "pygments_lexer": "ipython3",
   "version": "3.11.4"
  }
 },
 "nbformat": 4,
 "nbformat_minor": 5
}
